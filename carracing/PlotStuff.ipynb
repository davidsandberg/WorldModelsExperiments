{
 "cells": [
  {
   "cell_type": "code",
   "execution_count": null,
   "metadata": {},
   "outputs": [],
   "source": [
    "import matplotlib.pyplot as plt\n",
    "import numpy as np"
   ]
  },
  {
   "cell_type": "code",
   "execution_count": null,
   "metadata": {},
   "outputs": [],
   "source": [
    "path = 'record/20181130-233040/999809032.npz'\n",
    "#path = 'record/20181203-220648/999593515.npz'\n",
    "\n",
    "data = np.load(path)"
   ]
  },
  {
   "cell_type": "code",
   "execution_count": null,
   "metadata": {},
   "outputs": [],
   "source": [
    "data['obs'].shape"
   ]
  },
  {
   "cell_type": "code",
   "execution_count": null,
   "metadata": {},
   "outputs": [],
   "source": [
    "plt.imshow(data['obs'][100,:,:,:])"
   ]
  },
  {
   "cell_type": "code",
   "execution_count": null,
   "metadata": {},
   "outputs": [],
   "source": [
    "import tensorflow as tf\n",
    "import numpy as np\n",
    "import os\n",
    "\n",
    "from vae.vae import ConvVAE, reset_graph\n",
    "\n",
    "# Hyperparameters for ConvVAE\n",
    "z_size=32\n",
    "batch_size=1\n",
    "learning_rate=0.0001\n",
    "kl_tolerance=0.5\n",
    "\n",
    "\n",
    "reset_graph()\n",
    "\n",
    "x = tf.placeholder(tf.float32, shape=[None, 64, 64, 3])\n",
    "vae = ConvVAE(x, z_size=z_size,\n",
    "              batch_size=batch_size,\n",
    "              learning_rate=learning_rate,\n",
    "              kl_tolerance=kl_tolerance,\n",
    "              is_training=False,\n",
    "              reuse=False,\n",
    "              gpu_mode=True)\n",
    "vae.load_json(os.path.join('tf_vae', 'vae.json'))\n",
    "\n",
    "batch = data['obs'][100:1900:50,:,:,:]\n",
    "obs = batch.astype(np.float)/255.0\n",
    "feed = {vae.x: obs,}\n",
    "y = vae.sess.run(vae.y, feed)"
   ]
  },
  {
   "cell_type": "code",
   "execution_count": null,
   "metadata": {},
   "outputs": [],
   "source": [
    "for i in range(batch.shape[0]):\n",
    "    plt.figure()\n",
    "    yx = np.round(y[i,:,:,:]*255).astype(np.uint8)\n",
    "    plt.imshow(yx)"
   ]
  },
  {
   "cell_type": "code",
   "execution_count": 1,
   "metadata": {},
   "outputs": [
    {
     "name": "stdout",
     "output_type": "stream",
     "text": [
      "INFO:tensorflow:Model using cpu.\n",
      "model using cpu\n",
      "input dropout mode = False\n",
      "output dropout mode = False\n",
      "recurrent dropout mode = False\n",
      "Loading VAE and RNN\n"
     ]
    }
   ],
   "source": [
    "from model import make_model\n",
    "\n",
    "model = make_model(load_model=True)\n"
   ]
  }
 ],
 "metadata": {
  "kernelspec": {
   "display_name": "Python 3",
   "language": "python",
   "name": "python3"
  },
  "language_info": {
   "codemirror_mode": {
    "name": "ipython",
    "version": 3
   },
   "file_extension": ".py",
   "mimetype": "text/x-python",
   "name": "python",
   "nbconvert_exporter": "python",
   "pygments_lexer": "ipython3",
   "version": "3.5.2"
  }
 },
 "nbformat": 4,
 "nbformat_minor": 2
}
